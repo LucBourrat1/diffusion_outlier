{
 "cells": [
  {
   "cell_type": "code",
   "execution_count": 19,
   "metadata": {},
   "outputs": [],
   "source": [
    "from glob import glob\n",
    "import os\n",
    "import shutil"
   ]
  },
  {
   "cell_type": "code",
   "execution_count": 8,
   "metadata": {},
   "outputs": [],
   "source": [
    "DATA_PATH = \"/home/luc/data/landscapes\"\n",
    "DATA_PATH2 = \"/home/luc/data/tests\""
   ]
  },
  {
   "cell_type": "code",
   "execution_count": 7,
   "metadata": {},
   "outputs": [],
   "source": [
    "d = {}\n",
    "for i in range(2,8):\n",
    "    d[str(i)] = glob(f\"{DATA_PATH}/*({str(i)}).jpg\")"
   ]
  },
  {
   "cell_type": "code",
   "execution_count": 14,
   "metadata": {},
   "outputs": [],
   "source": [
    "all = glob(f\"{DATA_PATH}/*.jpg\")\n",
    "zero = []\n",
    "for path in all:\n",
    "    flag = True\n",
    "    for id in range(2,8):\n",
    "        if path in d[str(id)]:\n",
    "            flag = False\n",
    "            break\n",
    "    if flag:\n",
    "        zero.append(path)\n",
    "d[\"1\"] = zero"
   ]
  },
  {
   "cell_type": "code",
   "execution_count": 16,
   "metadata": {},
   "outputs": [
    {
     "name": "stdout",
     "output_type": "stream",
     "text": [
      "4318\n",
      "899\n",
      "899\n",
      "898\n",
      "598\n",
      "568\n",
      "395\n",
      "61\n"
     ]
    }
   ],
   "source": [
    "print(len(glob(f\"{DATA_PATH}/*.jpg\")))\n",
    "for i in range(1,8):\n",
    "    print(len(d[str(i)]))"
   ]
  },
  {
   "cell_type": "code",
   "execution_count": 20,
   "metadata": {},
   "outputs": [],
   "source": [
    "for i in range(1,8):\n",
    "    new_dir = f\"{DATA_PATH2}/{str(i)}\"\n",
    "    if not os.path.exists(new_dir):\n",
    "        os.mkdir(new_dir)\n",
    "    for path in d[str(i)]:\n",
    "        img_name = path.split(\"/\")[-1]\n",
    "        src = path\n",
    "        dest = f\"{new_dir}/{img_name}\"\n",
    "        shutil.copy(src, dest)"
   ]
  },
  {
   "cell_type": "code",
   "execution_count": null,
   "metadata": {},
   "outputs": [],
   "source": []
  }
 ],
 "metadata": {
  "kernelspec": {
   "display_name": "diffusion",
   "language": "python",
   "name": "python3"
  },
  "language_info": {
   "codemirror_mode": {
    "name": "ipython",
    "version": 3
   },
   "file_extension": ".py",
   "mimetype": "text/x-python",
   "name": "python",
   "nbconvert_exporter": "python",
   "pygments_lexer": "ipython3",
   "version": "3.11.8"
  }
 },
 "nbformat": 4,
 "nbformat_minor": 2
}
